{
 "cells": [
  {
   "cell_type": "markdown",
   "metadata": {},
   "source": [
    "# NG Data Portal API Wrapper Development\n",
    "\n",
    "<br>\n",
    "\n",
    "This notebook documents the development of an API wrapper for the National Grid Data Portal. \n",
    "\n",
    "It starts by looking at a single data stream, containing the percentage generation of each fuel, moving from basic requests to more developed and generalisable queries. During this process potential areas for user error are identified and warnings put in place to help guide them in their usage. Finally the groups of functions are combined into a single wrapper class within the NGDataPortal script.\n",
    "\n",
    "The next stage is to identify the different data streams and create a mapping to their resource ids.\n",
    "\n",
    "<br>\n",
    "\n",
    "### Imports"
   ]
  },
  {
   "cell_type": "code",
   "execution_count": 27,
   "metadata": {},
   "outputs": [],
   "source": [
    "import json\n",
    "import pandas as pd\n",
    "import numpy as np\n",
    "\n",
    "import matplotlib.pyplot as plt\n",
    "import seaborn as sns\n",
    "\n",
    "import requests\n",
    "from bs4 import BeautifulSoup\n",
    "\n",
    "import warnings\n",
    "from itertools import islice\n",
    "\n",
    "from IPython.core.display import display, HTML\n",
    "\n",
    "from NGDataPortal import Wrapper, stream_to_id_map"
   ]
  },
  {
   "cell_type": "markdown",
   "metadata": {},
   "source": [
    "<br>\n",
    "\n",
    "### Helper Functions"
   ]
  },
  {
   "cell_type": "code",
   "execution_count": 28,
   "metadata": {},
   "outputs": [],
   "source": [
    "def take(iterable, n=5):\n",
    "    \"Return first n items of the iterable as a list\"\n",
    "    return list(islice(iterable, n))"
   ]
  },
  {
   "cell_type": "markdown",
   "metadata": {},
   "source": [
    "<br>\n",
    "\n",
    "### Retrieving Package Information\n",
    "\n",
    "We can retrieve information relating to specific data streams through their respective datapackage.jsons"
   ]
  },
  {
   "cell_type": "code",
   "execution_count": 29,
   "metadata": {},
   "outputs": [
    {
     "data": {
      "text/plain": [
       "<Response [200]>"
      ]
     },
     "execution_count": 29,
     "metadata": {},
     "output_type": "execute_result"
    }
   ],
   "source": [
    "form_package_url = lambda group, stream: f'https://national-grid.ckan.io/{group}/{stream}/datapackage.json'\n",
    "\n",
    "group = 'generation'\n",
    "stream = 'generation-mix-national'\n",
    "\n",
    "package_url = form_package_url(group, stream)\n",
    "r_package = requests.get(package_url)\n",
    "\n",
    "r_package"
   ]
  },
  {
   "cell_type": "markdown",
   "metadata": {},
   "source": [
    "<br>\n",
    "\n",
    "These include general information about the data stream"
   ]
  },
  {
   "cell_type": "code",
   "execution_count": 30,
   "metadata": {},
   "outputs": [
    {
     "data": {
      "text/html": [
       "<p>This resource provides a rolling 30 day history of the national generation mix by settlement period and is updated every 30 minutes. <br/><br/></p>\n",
       "<p>Datetime is in ISO8601 format YYYY-MM-DDThh:mmZ e.g. 2017-08-25T12:30Z. All times provided in UTC (+00:00).</p>\n"
      ],
      "text/plain": [
       "<IPython.core.display.HTML object>"
      ]
     },
     "metadata": {},
     "output_type": "display_data"
    }
   ],
   "source": [
    "package_desc = r_package.json()['resources'][0]['descriptionHtml']\n",
    "\n",
    "display(HTML(package_desc))"
   ]
  },
  {
   "cell_type": "markdown",
   "metadata": {},
   "source": [
    "<br>\n",
    "\n",
    "As well as important attributes such as the resource id, with this we can now access the API data feeds"
   ]
  },
  {
   "cell_type": "code",
   "execution_count": 31,
   "metadata": {},
   "outputs": [
    {
     "data": {
      "text/plain": [
       "'0a168493-5d67-4a26-8344-2fe0a5d4d20b'"
      ]
     },
     "execution_count": 31,
     "metadata": {},
     "output_type": "execute_result"
    }
   ],
   "source": [
    "resource_id = r_package.json()['resources'][0]['id']\n",
    "\n",
    "resource_id"
   ]
  },
  {
   "cell_type": "markdown",
   "metadata": {},
   "source": [
    "<br>\n",
    "\n",
    "### Creating the API Wrapper\n",
    "\n",
    "We start the API wrapper development by creating a function which constructs the url for the relevant endpoint and then makes a request to it."
   ]
  },
  {
   "cell_type": "code",
   "execution_count": 32,
   "metadata": {},
   "outputs": [
    {
     "data": {
      "text/html": [
       "<div>\n",
       "<style scoped>\n",
       "    .dataframe tbody tr th:only-of-type {\n",
       "        vertical-align: middle;\n",
       "    }\n",
       "\n",
       "    .dataframe tbody tr th {\n",
       "        vertical-align: top;\n",
       "    }\n",
       "\n",
       "    .dataframe thead th {\n",
       "        text-align: right;\n",
       "    }\n",
       "</style>\n",
       "<table border=\"1\" class=\"dataframe\">\n",
       "  <thead>\n",
       "    <tr style=\"text-align: right;\">\n",
       "      <th></th>\n",
       "      <th>_id</th>\n",
       "      <th>dtm</th>\n",
       "      <th>f</th>\n",
       "    </tr>\n",
       "  </thead>\n",
       "  <tbody>\n",
       "    <tr>\n",
       "      <th>0</th>\n",
       "      <td>1</td>\n",
       "      <td>2019-12-01T00:00:00</td>\n",
       "      <td>50.118</td>\n",
       "    </tr>\n",
       "    <tr>\n",
       "      <th>1</th>\n",
       "      <td>2</td>\n",
       "      <td>2019-12-01T00:00:01</td>\n",
       "      <td>50.117</td>\n",
       "    </tr>\n",
       "  </tbody>\n",
       "</table>\n",
       "</div>"
      ],
      "text/plain": [
       "   _id                  dtm       f\n",
       "0    1  2019-12-01T00:00:00  50.118\n",
       "1    2  2019-12-01T00:00:01  50.117"
      ]
     },
     "execution_count": 32,
     "metadata": {},
     "output_type": "execute_result"
    }
   ],
   "source": [
    "def NG_request(resource_id, params={}):    \n",
    "    url_root = 'https://national-grid-admin.ckan.io/api/3/action/datastore_search'\n",
    "    \n",
    "    params.update({'resource_id':resource_id})\n",
    "    \n",
    "    if 'sql' in params.keys():\n",
    "        url_root += '_sql'\n",
    "        \n",
    "    r = requests.get(url_root, params=params)\n",
    "    \n",
    "    return r\n",
    "\n",
    "resource_id = 'f0933bdd-1b0e-4dd3-aa7f-5498df1ba5b9'\n",
    "\n",
    "r = NG_request(resource_id)\n",
    "df = pd.DataFrame(r.json()['result']['records'])\n",
    "\n",
    "df.head(2)"
   ]
  },
  {
   "cell_type": "markdown",
   "metadata": {},
   "source": [
    "<br>\n",
    "\n",
    "Before we take this further we want to add some checks which confirm the call was successful and if not exposes the error message returned by the API. We create a wrapper for the error to enable its assignment as a dictionary value in the next section."
   ]
  },
  {
   "cell_type": "code",
   "execution_count": 33,
   "metadata": {},
   "outputs": [],
   "source": [
    "def raise_(err_txt, error=ValueError): \n",
    "    raise error(err_txt)\n",
    "    \n",
    "def check_request_success(r_json):\n",
    "    if r_json['success'] == False:\n",
    "        \n",
    "        if 'message' in r_json['error'].keys():\n",
    "            err_msg = r_json['error']['message']\n",
    "        else:\n",
    "            err_msg = r_json['error']['info']['orig']\n",
    "        \n",
    "        raise_(err_msg)\n",
    "        raise_(err_msg)\n",
    "        \n",
    "r = NG_request('incorrect_resource_id')\n",
    "r_json = r.json()\n",
    "\n",
    "#check_request_success(r_json)"
   ]
  },
  {
   "cell_type": "markdown",
   "metadata": {},
   "source": [
    "<br>\n",
    "\n",
    "The most common 'advanced' query to the API will include some specification around the date range for the data, within CKAN we can use SQL to construct these specific requests."
   ]
  },
  {
   "cell_type": "code",
   "execution_count": 29,
   "metadata": {},
   "outputs": [
    {
     "name": "stdout",
     "output_type": "stream",
     "text": [
      "SELECT * from \"f0933bdd-1b0e-4dd3-aa7f-5498df1ba5b9\" WHERE \"dtm\" BETWEEN '2019-12-01T00:00:00'::timestamp AND '2019-12-01T00:00:30'::timestamp ORDER BY \"dtm\"\n"
     ]
    }
   ],
   "source": [
    "date_between = lambda dt_col, resource_id, start_date, end_date: f'SELECT * from \"{resource_id}\" WHERE \"{dt_col}\" BETWEEN \\'{start_date}\\'::timestamp AND \\'{end_date}\\'::timestamp ORDER BY \"{dt_col}\"' \n",
    "date_less_than = lambda dt_col, resource_id, date: f'SELECT * from \"{resource_id}\" WHERE \"{dt_col}\" < \\'{date}\\'::timestamp ORDER BY \"{dt_col}\"' \n",
    "date_greater_than = lambda dt_col, resource_id, date: f'SELECT * from \"{resource_id}\" WHERE \"{dt_col}\" > \\'{date}\\'::timestamp ORDER BY \"{dt_col}\"' \n",
    "\n",
    "def form_dt_rng_sql_query(dt_col, resource_id, start_date=None, end_date=None):\n",
    "    start_end_date_exist = (start_date!=None, end_date!=None)\n",
    "    \n",
    "    func_map = {\n",
    "        (False, False) : {'error' : 'A start and/or end date should be passed'},\n",
    "        (True, True) : date_between(dt_col, resource_id, start_date, end_date),\n",
    "        (False, True) : date_less_than(dt_col, resource_id, end_date),\n",
    "        (True, False) : date_greater_than(dt_col, resource_id, start_date),\n",
    "    }\n",
    "    \n",
    "    sql = func_map[start_end_date_exist]\n",
    "    \n",
    "    if not isinstance(sql, str):\n",
    "        raise_(sql['error'])\n",
    "    \n",
    "    return sql\n",
    "    \n",
    "dt_col = 'dtm'\n",
    "start_date = '2019-12-01T00:00:00'\n",
    "end_date = '2019-12-01T00:00:30'\n",
    "\n",
    "sql = form_dt_rng_sql_query(dt_col, resource_id, start_date=start_date, end_date=end_date)\n",
    "\n",
    "print(sql)"
   ]
  },
  {
   "cell_type": "markdown",
   "metadata": {},
   "source": [
    "<br>\n",
    "\n",
    "We're now ready to put this all together into a single function"
   ]
  },
  {
   "cell_type": "code",
   "execution_count": 32,
   "metadata": {},
   "outputs": [
    {
     "data": {
      "text/html": [
       "<div>\n",
       "<style scoped>\n",
       "    .dataframe tbody tr th:only-of-type {\n",
       "        vertical-align: middle;\n",
       "    }\n",
       "\n",
       "    .dataframe tbody tr th {\n",
       "        vertical-align: top;\n",
       "    }\n",
       "\n",
       "    .dataframe thead th {\n",
       "        text-align: right;\n",
       "    }\n",
       "</style>\n",
       "<table border=\"1\" class=\"dataframe\">\n",
       "  <thead>\n",
       "    <tr style=\"text-align: right;\">\n",
       "      <th></th>\n",
       "      <th>_id</th>\n",
       "      <th>_full_text</th>\n",
       "      <th>dtm</th>\n",
       "      <th>f</th>\n",
       "    </tr>\n",
       "  </thead>\n",
       "  <tbody>\n",
       "    <tr>\n",
       "      <th>0</th>\n",
       "      <td>1</td>\n",
       "      <td>'-01':3 '-12':2 '00':5,6 '2019':1 '50.118':7 '...</td>\n",
       "      <td>2019-12-01T00:00:00</td>\n",
       "      <td>50.118</td>\n",
       "    </tr>\n",
       "    <tr>\n",
       "      <th>1</th>\n",
       "      <td>2</td>\n",
       "      <td>'-01':3 '-12':2 '00':5 '01':6 '2019':1 '50.117...</td>\n",
       "      <td>2019-12-01T00:00:01</td>\n",
       "      <td>50.117</td>\n",
       "    </tr>\n",
       "    <tr>\n",
       "      <th>2</th>\n",
       "      <td>3</td>\n",
       "      <td>'-01':3 '-12':2 '00':5 '02':6 '2019':1 '50.111...</td>\n",
       "      <td>2019-12-01T00:00:02</td>\n",
       "      <td>50.111</td>\n",
       "    </tr>\n",
       "    <tr>\n",
       "      <th>3</th>\n",
       "      <td>4</td>\n",
       "      <td>'-01':3 '-12':2 '00':5 '03':6 '2019':1 '50.1':...</td>\n",
       "      <td>2019-12-01T00:00:03</td>\n",
       "      <td>50.1</td>\n",
       "    </tr>\n",
       "    <tr>\n",
       "      <th>4</th>\n",
       "      <td>5</td>\n",
       "      <td>'-01':3 '-12':2 '00':5 '04':6 '2019':1 '50.089...</td>\n",
       "      <td>2019-12-01T00:00:04</td>\n",
       "      <td>50.089</td>\n",
       "    </tr>\n",
       "  </tbody>\n",
       "</table>\n",
       "</div>"
      ],
      "text/plain": [
       "   _id                                         _full_text  \\\n",
       "0    1  '-01':3 '-12':2 '00':5,6 '2019':1 '50.118':7 '...   \n",
       "1    2  '-01':3 '-12':2 '00':5 '01':6 '2019':1 '50.117...   \n",
       "2    3  '-01':3 '-12':2 '00':5 '02':6 '2019':1 '50.111...   \n",
       "3    4  '-01':3 '-12':2 '00':5 '03':6 '2019':1 '50.1':...   \n",
       "4    5  '-01':3 '-12':2 '00':5 '04':6 '2019':1 '50.089...   \n",
       "\n",
       "                   dtm       f  \n",
       "0  2019-12-01T00:00:00  50.118  \n",
       "1  2019-12-01T00:00:01  50.117  \n",
       "2  2019-12-01T00:00:02  50.111  \n",
       "3  2019-12-01T00:00:03    50.1  \n",
       "4  2019-12-01T00:00:04  50.089  "
      ]
     },
     "execution_count": 32,
     "metadata": {},
     "output_type": "execute_result"
    }
   ],
   "source": [
    "def query_API(resource_id, params={}, start_date=None, end_date=None, dt_col=None, sql=None, return_raw=False):\n",
    "    ## Handling SQL queries\n",
    "    if start_date or end_date:\n",
    "        if sql:\n",
    "            warnings.warn('The start and end date query will overwrite the provided SQL')\n",
    "        \n",
    "        if not dt_col:\n",
    "            raise_('If a start or end date has been provided the \\'dt_col\\' parameter must be provided')\n",
    "        \n",
    "        sql = form_dt_rng_sql_query(dt_col, resource_id, start_date=start_date, end_date=end_date)\n",
    "        params.update({'sql':sql})\n",
    "    \n",
    "    elif sql:\n",
    "        params.update({'sql':sql})\n",
    "    \n",
    "    ## Making the request\n",
    "    r = NG_request(resource_id, params=params)\n",
    "    \n",
    "    if return_raw == True:\n",
    "        return r\n",
    "\n",
    "    ## Checking and parsing the response\n",
    "    r_json = r.json()\n",
    "    check_request_success(r_json)\n",
    "    \n",
    "    df = pd.DataFrame(r_json['result']['records'])\n",
    "        \n",
    "    return df\n",
    "\n",
    "start_date = '2019-12-01T00:00:00'\n",
    "end_date = '2019-12-01T00:00:30'\n",
    "dt_col = 'dtm'\n",
    "\n",
    "df = query_API(resource_id, start_date=start_date, end_date=end_date, dt_col=dt_col)\n",
    "\n",
    "df.head()"
   ]
  },
  {
   "cell_type": "markdown",
   "metadata": {},
   "source": [
    "<br>\n",
    "\n",
    "### Collecting Metadata for Available Streams"
   ]
  },
  {
   "cell_type": "code",
   "execution_count": 10,
   "metadata": {},
   "outputs": [
    {
     "data": {
      "text/plain": [
       "<Response [200]>"
      ]
     },
     "execution_count": 10,
     "metadata": {},
     "output_type": "execute_result"
    }
   ],
   "source": [
    "url_search_NGDataPortal = lambda q, from_: f'https://data.nationalgrideso.com/search?q={q}&from={from_}&sort=score:desc'\n",
    "\n",
    "search_url = url_search_NGDataPortal('', 0)\n",
    "r = requests.get(search_url)\n",
    "\n",
    "r"
   ]
  },
  {
   "cell_type": "code",
   "execution_count": null,
   "metadata": {},
   "outputs": [],
   "source": []
  },
  {
   "cell_type": "code",
   "execution_count": 11,
   "metadata": {},
   "outputs": [
    {
     "data": {
      "text/plain": [
       "['/plans-reports-analysis/forward-plan-role-1-tracker-19-20',\n",
       " '/system/system-excursions',\n",
       " '/ancillary-services/fast-reserve-tender-reports',\n",
       " '/system/system-frequency-data',\n",
       " '/ancillary-services/firm-frequency-response-post-tender-reports',\n",
       " '/ancillary-services/short-term-operating-reserve-stor',\n",
       " '/ancillary-services/short-term-operating-reserve-tender-reports',\n",
       " '/trade-data/contracted-energy-volumes-and-data',\n",
       " '/ancillary-services/obligatory-reactive-power-service-orps-utilisation',\n",
       " '/ancillary-services/fast-reserve-market-information-reports']"
      ]
     },
     "execution_count": 11,
     "metadata": {},
     "output_type": "execute_result"
    }
   ],
   "source": [
    "def response_2_resource_links(r):\n",
    "    soup = BeautifulSoup(r.content)\n",
    "\n",
    "    resource_links = soup.findAll('a', {'class':'text-orange hover:text-gray-800'})\n",
    "    resource_links = [resource_link['href'] for resource_link in resource_links]\n",
    "\n",
    "    return resource_links\n",
    "\n",
    "resource_links = response_2_resource_links(r)\n",
    "\n",
    "resource_links"
   ]
  },
  {
   "cell_type": "code",
   "execution_count": null,
   "metadata": {},
   "outputs": [],
   "source": []
  },
  {
   "cell_type": "code",
   "execution_count": 12,
   "metadata": {},
   "outputs": [
    {
     "name": "stdout",
     "output_type": "stream",
     "text": [
      "There are a total of 46 data streams available through the National Grid portal\n"
     ]
    },
    {
     "data": {
      "text/html": [
       "<div>\n",
       "<style scoped>\n",
       "    .dataframe tbody tr th:only-of-type {\n",
       "        vertical-align: middle;\n",
       "    }\n",
       "\n",
       "    .dataframe tbody tr th {\n",
       "        vertical-align: top;\n",
       "    }\n",
       "\n",
       "    .dataframe thead th {\n",
       "        text-align: right;\n",
       "    }\n",
       "</style>\n",
       "<table border=\"1\" class=\"dataframe\">\n",
       "  <thead>\n",
       "    <tr style=\"text-align: right;\">\n",
       "      <th></th>\n",
       "      <th>group</th>\n",
       "      <th>stream</th>\n",
       "    </tr>\n",
       "  </thead>\n",
       "  <tbody>\n",
       "    <tr>\n",
       "      <th>0</th>\n",
       "      <td>plans-reports-analysis</td>\n",
       "      <td>forward-plan-role-1-tracker-19-20</td>\n",
       "    </tr>\n",
       "    <tr>\n",
       "      <th>1</th>\n",
       "      <td>system</td>\n",
       "      <td>system-excursions</td>\n",
       "    </tr>\n",
       "    <tr>\n",
       "      <th>2</th>\n",
       "      <td>ancillary-services</td>\n",
       "      <td>fast-reserve-tender-reports</td>\n",
       "    </tr>\n",
       "    <tr>\n",
       "      <th>3</th>\n",
       "      <td>system</td>\n",
       "      <td>system-frequency-data</td>\n",
       "    </tr>\n",
       "    <tr>\n",
       "      <th>4</th>\n",
       "      <td>ancillary-services</td>\n",
       "      <td>firm-frequency-response-post-tender-reports</td>\n",
       "    </tr>\n",
       "  </tbody>\n",
       "</table>\n",
       "</div>"
      ],
      "text/plain": [
       "                    group                                       stream\n",
       "0  plans-reports-analysis            forward-plan-role-1-tracker-19-20\n",
       "1                  system                            system-excursions\n",
       "2      ancillary-services                  fast-reserve-tender-reports\n",
       "3                  system                        system-frequency-data\n",
       "4      ancillary-services  firm-frequency-response-post-tender-reports"
      ]
     },
     "execution_count": 12,
     "metadata": {},
     "output_type": "execute_result"
    }
   ],
   "source": [
    "resource_links = []\n",
    "num_page_resource_links = 1\n",
    "\n",
    "while num_page_resource_links > 0:\n",
    "    search_url = url_search_NGDataPortal('', len(resource_links))\n",
    "    r = requests.get(search_url)\n",
    "    \n",
    "    page_resource_links = response_2_resource_links(r)\n",
    "    num_page_resource_links = len(page_resource_links)\n",
    "    \n",
    "    resource_links += page_resource_links\n",
    "    \n",
    "print(f'There are a total of {len(resource_links)} data streams available through the National Grid portal')\n",
    "\n",
    "df_resources = (pd.Series(resource_links)\n",
    "                .str[1:]\n",
    "                .str.split('/')\n",
    "                .apply(pd.Series)\n",
    "                .rename(columns={0:'group', 1:'stream'})\n",
    "               )\n",
    "\n",
    "df_resources.head()"
   ]
  },
  {
   "cell_type": "code",
   "execution_count": null,
   "metadata": {},
   "outputs": [],
   "source": []
  },
  {
   "cell_type": "code",
   "execution_count": 13,
   "metadata": {},
   "outputs": [
    {
     "data": {
      "text/plain": [
       "{'package_desc': 'This resource provides a rolling 30 day history of the national generation mix by settlement period and is updated every 30 minutes. <br/><br/>\\r\\n\\r\\nDatetime is in ISO8601 format YYYY-MM-DDThh:mmZ e.g. 2017-08-25T12:30Z. All times provided in UTC (+00:00).',\n",
       " 'resource_id': '0a168493-5d67-4a26-8344-2fe0a5d4d20b'}"
      ]
     },
     "execution_count": 13,
     "metadata": {},
     "output_type": "execute_result"
    }
   ],
   "source": [
    "def package_url_2_metadata(package_url):\n",
    "    r_package = requests.get(package_url)\n",
    "    r_json = r_package.json()\n",
    "\n",
    "    package_metadata = dict()\n",
    "\n",
    "    package_metadata['package_desc'] = r_json['resources'][0]['description']\n",
    "    package_metadata['resource_id'] = r_json['resources'][0]['id']\n",
    "\n",
    "    return package_metadata\n",
    "\n",
    "group = 'generation'\n",
    "stream = 'generation-mix-national'\n",
    "\n",
    "package_url = form_package_url(group, stream)\n",
    "package_metadata = package_url_2_metadata(package_url)\n",
    "\n",
    "package_metadata"
   ]
  },
  {
   "cell_type": "code",
   "execution_count": null,
   "metadata": {},
   "outputs": [],
   "source": []
  },
  {
   "cell_type": "code",
   "execution_count": 14,
   "metadata": {},
   "outputs": [
    {
     "name": "stdout",
     "output_type": "stream",
     "text": [
      "Wall time: 0 ns\n"
     ]
    }
   ],
   "source": [
    "%%time\n",
    "\n",
    "identify_resource_ids = False\n",
    "\n",
    "if identify_resource_ids == True:\n",
    "    for idx, (group, stream) in df_resources.iterrows():\n",
    "        package_url = form_package_url(group, stream)\n",
    "        package_metadata = package_url_2_metadata(package_url)\n",
    "\n",
    "        df_resources.loc[idx, 'resource_id'] = package_metadata['resource_id']\n",
    "\n",
    "    stream_2_id_map = df_resources.set_index('stream')['resource_id'].to_dict()\n",
    "\n",
    "    print(dict(take(stream_2_id_map.items())))"
   ]
  },
  {
   "cell_type": "code",
   "execution_count": null,
   "metadata": {},
   "outputs": [],
   "source": []
  },
  {
   "cell_type": "code",
   "execution_count": 15,
   "metadata": {},
   "outputs": [],
   "source": [
    "if identify_resource_ids == True:\n",
    "    with open('stream_to_resource_id.json', 'w') as fp:\n",
    "        json.dump(stream_2_id_map, fp)"
   ]
  },
  {
   "cell_type": "code",
   "execution_count": null,
   "metadata": {},
   "outputs": [],
   "source": []
  },
  {
   "cell_type": "code",
   "execution_count": 43,
   "metadata": {},
   "outputs": [
    {
     "data": {
      "text/html": [
       "<div>\n",
       "<style scoped>\n",
       "    .dataframe tbody tr th:only-of-type {\n",
       "        vertical-align: middle;\n",
       "    }\n",
       "\n",
       "    .dataframe tbody tr th {\n",
       "        vertical-align: top;\n",
       "    }\n",
       "\n",
       "    .dataframe thead th {\n",
       "        text-align: right;\n",
       "    }\n",
       "</style>\n",
       "<table border=\"1\" class=\"dataframe\">\n",
       "  <thead>\n",
       "    <tr style=\"text-align: right;\">\n",
       "      <th></th>\n",
       "      <th>Settlement Period</th>\n",
       "      <th>Half-hourly Charge</th>\n",
       "      <th>Run Type</th>\n",
       "      <th>Total Daily BSUoS Charge</th>\n",
       "      <th>_full_text</th>\n",
       "      <th>BSUoS Price (£/MWh Hour)</th>\n",
       "      <th>Settlement Day</th>\n",
       "      <th>_id</th>\n",
       "    </tr>\n",
       "  </thead>\n",
       "  <tbody>\n",
       "    <tr>\n",
       "      <th>0</th>\n",
       "      <td>1</td>\n",
       "      <td>36104.6200000000026193447411060333251953125</td>\n",
       "      <td>II</td>\n",
       "      <td>1946056.1499999999068677425384521484375</td>\n",
       "      <td>'-01':2 '-04':3 '00':5,6 '1':7 '1.68113':8 '19...</td>\n",
       "      <td>1.68113</td>\n",
       "      <td>2017-01-04T00:00:00</td>\n",
       "      <td>1</td>\n",
       "    </tr>\n",
       "    <tr>\n",
       "      <th>1</th>\n",
       "      <td>2</td>\n",
       "      <td>36968.389999999999417923390865325927734375</td>\n",
       "      <td>II</td>\n",
       "      <td>1946056.1499999999068677425384521484375</td>\n",
       "      <td>'-01':2 '-04':3 '00':5,6 '1.74179':8 '1946056....</td>\n",
       "      <td>1.74179</td>\n",
       "      <td>2017-01-04T00:00:00</td>\n",
       "      <td>2</td>\n",
       "    </tr>\n",
       "  </tbody>\n",
       "</table>\n",
       "</div>"
      ],
      "text/plain": [
       "  Settlement Period                           Half-hourly Charge Run Type  \\\n",
       "0                 1  36104.6200000000026193447411060333251953125       II   \n",
       "1                 2   36968.389999999999417923390865325927734375       II   \n",
       "\n",
       "                  Total Daily BSUoS Charge  \\\n",
       "0  1946056.1499999999068677425384521484375   \n",
       "1  1946056.1499999999068677425384521484375   \n",
       "\n",
       "                                          _full_text BSUoS Price (£/MWh Hour)  \\\n",
       "0  '-01':2 '-04':3 '00':5,6 '1':7 '1.68113':8 '19...                  1.68113   \n",
       "1  '-01':2 '-04':3 '00':5,6 '1.74179':8 '1946056....                  1.74179   \n",
       "\n",
       "        Settlement Day  _id  \n",
       "0  2017-01-04T00:00:00    1  \n",
       "1  2017-01-04T00:00:00    2  "
      ]
     },
     "execution_count": 43,
     "metadata": {},
     "output_type": "execute_result"
    }
   ],
   "source": [
    "stream = 'current-balancing-services-use-of-system-bsuos-data'\n",
    "wrapper = Wrapper(stream=stream)\n",
    "\n",
    "start_date = '2017-01-04T00:00:00'\n",
    "end_date = '2017-01-05T00:00:00'\n",
    "dt_col = 'Settlement Day'\n",
    "\n",
    "df = wrapper.query_API(start_date=start_date, end_date=end_date, dt_col=dt_col)\n",
    "\n",
    "df.head(2)"
   ]
  },
  {
   "cell_type": "code",
   "execution_count": null,
   "metadata": {},
   "outputs": [],
   "source": []
  },
  {
   "cell_type": "code",
   "execution_count": 44,
   "metadata": {},
   "outputs": [
    {
     "data": {
      "text/html": [
       "<div>\n",
       "<style scoped>\n",
       "    .dataframe tbody tr th:only-of-type {\n",
       "        vertical-align: middle;\n",
       "    }\n",
       "\n",
       "    .dataframe tbody tr th {\n",
       "        vertical-align: top;\n",
       "    }\n",
       "\n",
       "    .dataframe thead th {\n",
       "        text-align: right;\n",
       "    }\n",
       "</style>\n",
       "<table border=\"1\" class=\"dataframe\">\n",
       "  <thead>\n",
       "    <tr style=\"text-align: right;\">\n",
       "      <th></th>\n",
       "      <th>_id</th>\n",
       "      <th>BMU_ID</th>\n",
       "      <th>Week Number</th>\n",
       "      <th>MW</th>\n",
       "    </tr>\n",
       "  </thead>\n",
       "  <tbody>\n",
       "    <tr>\n",
       "      <th>0</th>\n",
       "      <td>1</td>\n",
       "      <td>ABRBO-1</td>\n",
       "      <td>09W20</td>\n",
       "      <td>0</td>\n",
       "    </tr>\n",
       "    <tr>\n",
       "      <th>1</th>\n",
       "      <td>2</td>\n",
       "      <td>ABRBO-1</td>\n",
       "      <td>10W20</td>\n",
       "      <td>0</td>\n",
       "    </tr>\n",
       "    <tr>\n",
       "      <th>2</th>\n",
       "      <td>3</td>\n",
       "      <td>ABRBO-1</td>\n",
       "      <td>11W20</td>\n",
       "      <td>0</td>\n",
       "    </tr>\n",
       "    <tr>\n",
       "      <th>3</th>\n",
       "      <td>4</td>\n",
       "      <td>ABRBO-1</td>\n",
       "      <td>12W20</td>\n",
       "      <td>0</td>\n",
       "    </tr>\n",
       "    <tr>\n",
       "      <th>4</th>\n",
       "      <td>5</td>\n",
       "      <td>ABRBO-1</td>\n",
       "      <td>13W20</td>\n",
       "      <td>0</td>\n",
       "    </tr>\n",
       "  </tbody>\n",
       "</table>\n",
       "</div>"
      ],
      "text/plain": [
       "   _id   BMU_ID Week Number  MW\n",
       "0    1  ABRBO-1       09W20   0\n",
       "1    2  ABRBO-1       10W20   0\n",
       "2    3  ABRBO-1       11W20   0\n",
       "3    4  ABRBO-1       12W20   0\n",
       "4    5  ABRBO-1       13W20   0"
      ]
     },
     "execution_count": 44,
     "metadata": {},
     "output_type": "execute_result"
    }
   ],
   "source": [
    "stream = 'weekly-wind-availability'\n",
    "wrapper = Wrapper(stream)\n",
    "\n",
    "df = wrapper.query_API()\n",
    "\n",
    "df.head()"
   ]
  },
  {
   "cell_type": "code",
   "execution_count": null,
   "metadata": {},
   "outputs": [],
   "source": []
  },
  {
   "cell_type": "code",
   "execution_count": 45,
   "metadata": {},
   "outputs": [
    {
     "data": {
      "text/html": [
       "<div>\n",
       "<style scoped>\n",
       "    .dataframe tbody tr th:only-of-type {\n",
       "        vertical-align: middle;\n",
       "    }\n",
       "\n",
       "    .dataframe tbody tr th {\n",
       "        vertical-align: top;\n",
       "    }\n",
       "\n",
       "    .dataframe thead th {\n",
       "        text-align: right;\n",
       "    }\n",
       "</style>\n",
       "<table border=\"1\" class=\"dataframe\">\n",
       "  <thead>\n",
       "    <tr style=\"text-align: right;\">\n",
       "      <th></th>\n",
       "      <th>_id</th>\n",
       "      <th>DATE_GMT</th>\n",
       "      <th>TIME_GMT</th>\n",
       "      <th>SETTLEMENT_DATE</th>\n",
       "      <th>SETTLEMENT_PERIOD</th>\n",
       "      <th>EMBEDDED_WIND_FORECAST</th>\n",
       "      <th>EMBEDDED_WIND_CAPACITY</th>\n",
       "      <th>EMBEDDED_SOLAR_FORECAST</th>\n",
       "      <th>EMBEDDED_SOLAR_CAPACITY</th>\n",
       "    </tr>\n",
       "  </thead>\n",
       "  <tbody>\n",
       "    <tr>\n",
       "      <th>0</th>\n",
       "      <td>1</td>\n",
       "      <td>20200502</td>\n",
       "      <td>2130</td>\n",
       "      <td>2020-05-02T00:00:00</td>\n",
       "      <td>45</td>\n",
       "      <td>408</td>\n",
       "      <td>6527</td>\n",
       "      <td>0</td>\n",
       "      <td>13080</td>\n",
       "    </tr>\n",
       "    <tr>\n",
       "      <th>1</th>\n",
       "      <td>2</td>\n",
       "      <td>20200502</td>\n",
       "      <td>2200</td>\n",
       "      <td>2020-05-02T00:00:00</td>\n",
       "      <td>46</td>\n",
       "      <td>386</td>\n",
       "      <td>6527</td>\n",
       "      <td>0</td>\n",
       "      <td>13080</td>\n",
       "    </tr>\n",
       "    <tr>\n",
       "      <th>2</th>\n",
       "      <td>3</td>\n",
       "      <td>20200502</td>\n",
       "      <td>2230</td>\n",
       "      <td>2020-05-02T00:00:00</td>\n",
       "      <td>47</td>\n",
       "      <td>386</td>\n",
       "      <td>6527</td>\n",
       "      <td>0</td>\n",
       "      <td>13080</td>\n",
       "    </tr>\n",
       "    <tr>\n",
       "      <th>3</th>\n",
       "      <td>4</td>\n",
       "      <td>20200502</td>\n",
       "      <td>2300</td>\n",
       "      <td>2020-05-02T00:00:00</td>\n",
       "      <td>48</td>\n",
       "      <td>357</td>\n",
       "      <td>6527</td>\n",
       "      <td>0</td>\n",
       "      <td>13080</td>\n",
       "    </tr>\n",
       "    <tr>\n",
       "      <th>4</th>\n",
       "      <td>5</td>\n",
       "      <td>20200502</td>\n",
       "      <td>2330</td>\n",
       "      <td>2020-05-03T00:00:00</td>\n",
       "      <td>1</td>\n",
       "      <td>357</td>\n",
       "      <td>6527</td>\n",
       "      <td>0</td>\n",
       "      <td>13082</td>\n",
       "    </tr>\n",
       "  </tbody>\n",
       "</table>\n",
       "</div>"
      ],
      "text/plain": [
       "   _id  DATE_GMT  TIME_GMT      SETTLEMENT_DATE  SETTLEMENT_PERIOD  \\\n",
       "0    1  20200502      2130  2020-05-02T00:00:00                 45   \n",
       "1    2  20200502      2200  2020-05-02T00:00:00                 46   \n",
       "2    3  20200502      2230  2020-05-02T00:00:00                 47   \n",
       "3    4  20200502      2300  2020-05-02T00:00:00                 48   \n",
       "4    5  20200502      2330  2020-05-03T00:00:00                  1   \n",
       "\n",
       "   EMBEDDED_WIND_FORECAST  EMBEDDED_WIND_CAPACITY  EMBEDDED_SOLAR_FORECAST  \\\n",
       "0                     408                    6527                        0   \n",
       "1                     386                    6527                        0   \n",
       "2                     386                    6527                        0   \n",
       "3                     357                    6527                        0   \n",
       "4                     357                    6527                        0   \n",
       "\n",
       "   EMBEDDED_SOLAR_CAPACITY  \n",
       "0                    13080  \n",
       "1                    13080  \n",
       "2                    13080  \n",
       "3                    13080  \n",
       "4                    13082  "
      ]
     },
     "execution_count": 45,
     "metadata": {},
     "output_type": "execute_result"
    }
   ],
   "source": [
    "stream = 'embedded-wind-and-solar-forecasts'\n",
    "wrapper = Wrapper(stream)\n",
    "\n",
    "df = wrapper.query_API()\n",
    "\n",
    "df.head()"
   ]
  }
 ],
 "metadata": {
  "kernelspec": {
   "display_name": "Python 3",
   "language": "python",
   "name": "python3"
  },
  "language_info": {
   "codemirror_mode": {
    "name": "ipython",
    "version": 3
   },
   "file_extension": ".py",
   "mimetype": "text/x-python",
   "name": "python",
   "nbconvert_exporter": "python",
   "pygments_lexer": "ipython3",
   "version": "3.7.6"
  }
 },
 "nbformat": 4,
 "nbformat_minor": 4
}
